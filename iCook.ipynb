{
 "cells": [
  {
   "cell_type": "code",
   "execution_count": 120,
   "metadata": {
    "collapsed": false,
    "scrolled": true
   },
   "outputs": [],
   "source": [
    "import requests as r\n",
    "from bs4 import BeautifulSoup\n",
    "# res = r.get(\"https://icook.tw/recipes/192607\")\n",
    "# res = r.get(\"https://icook.tw/recipes/149885\")\n",
    "res = r.get(\"https://icook.tw/recipes/41742\")\n",
    "res.text\n",
    "soup = BeautifulSoup(res.text, 'lxml')\n"
   ]
  },
  {
   "cell_type": "markdown",
   "metadata": {},
   "source": [
    "## 標題"
   ]
  },
  {
   "cell_type": "code",
   "execution_count": 121,
   "metadata": {
    "collapsed": false
   },
   "outputs": [
    {
     "data": {
      "text/plain": [
       "'金針菇炒皇帝豆'"
      ]
     },
     "execution_count": 121,
     "metadata": {},
     "output_type": "execute_result"
    }
   ],
   "source": [
    "title = soup.select_one(\"#o-wrapper > div.container > div > div.col-xs-12.col-md-8 > article > h1\").text.strip()\n",
    "title"
   ]
  },
  {
   "cell_type": "markdown",
   "metadata": {},
   "source": [
    "## 食材"
   ]
  },
  {
   "cell_type": "code",
   "execution_count": 122,
   "metadata": {
    "collapsed": false
   },
   "outputs": [
    {
     "data": {
      "text/plain": [
       "['皇帝豆', '金針菇', '辣椒', '蒜頭', '香菜']"
      ]
     },
     "execution_count": 122,
     "metadata": {},
     "output_type": "execute_result"
    }
   ],
   "source": [
    "ingredients = soup.select(\"#o-wrapper > div.container > div > div.col-xs-12.col-md-8 > article > div > div.col-xs-12.col-md-4 > div > div > div.group.group-0 > div > span.pull-left.ingredient-name\")\n",
    "# ingredients\n",
    "ingrediantList=[]\n",
    "for ingredient in ingredients:\n",
    "    ingName=ingredient.text\n",
    "    ingrediantList.append(ingName)\n",
    "ingrediantList"
   ]
  },
  {
   "cell_type": "markdown",
   "metadata": {},
   "source": [
    "## 調味料"
   ]
  },
  {
   "cell_type": "code",
   "execution_count": 123,
   "metadata": {
    "collapsed": false,
    "scrolled": false
   },
   "outputs": [
    {
     "data": {
      "text/plain": [
       "['鹽']"
      ]
     },
     "execution_count": 123,
     "metadata": {},
     "output_type": "execute_result"
    }
   ],
   "source": [
    "seasons = soup.select(\"#o-wrapper > div.container > div > div.col-xs-12.col-md-8 > article > div > div.col-xs-12.col-md-4 > div > div > div.group.group-1 > div > span.pull-left.ingredient-name\")\n",
    "seasons\n",
    "seasonList=[]\n",
    "for season in seasons:\n",
    "    s=season.text\n",
    "    seasonList.append(s)\n",
    "seasonList"
   ]
  },
  {
   "cell_type": "markdown",
   "metadata": {},
   "source": [
    "## 收藏數"
   ]
  },
  {
   "cell_type": "code",
   "execution_count": 124,
   "metadata": {
    "collapsed": false
   },
   "outputs": [
    {
     "data": {
      "text/plain": [
       "'672'"
      ]
     },
     "execution_count": 124,
     "metadata": {},
     "output_type": "execute_result"
    }
   ],
   "source": [
    "collectionNo =soup.select_one(\"#o-wrapper > div.container > div > div.col-xs-12.col-md-8 > article > div > div.col-xs-12.col-md-8 > div.row.func > div.col-xs-12.col-sm-6.col-md-7.meta > span.fav-count.recipe-favorites\")\n",
    "collectionNo.text\n",
    "collectNumber=collectionNo.text.split('\\n')[0]\n",
    "collectNumber"
   ]
  },
  {
   "cell_type": "markdown",
   "metadata": {},
   "source": [
    "## 烹煮時間 (有些沒有)"
   ]
  },
  {
   "cell_type": "code",
   "execution_count": 125,
   "metadata": {
    "collapsed": false
   },
   "outputs": [
    {
     "data": {
      "text/plain": [
       "'未標示'"
      ]
     },
     "execution_count": 125,
     "metadata": {},
     "output_type": "execute_result"
    }
   ],
   "source": [
    "# soup.select_one(\"#o-wrapper > div.container > div > div.col-xs-12.col-md-8 > article > div > div.col-xs-12.col-md-4 > div > h3 > span.pull-right > span.time\")\n",
    "needTime = soup.select_one(\"#o-wrapper > div.container > div > div.col-xs-12.col-md-8 > article > div > div.col-xs-12.col-md-4 > div > h3 > span.pull-right > span.time\")\n",
    "if needTime:\n",
    "    time = needTime.text #string\n",
    "else: \n",
    "    time=\"未標示\"\n",
    "time\n",
    "# type(time)"
   ]
  },
  {
   "cell_type": "markdown",
   "metadata": {},
   "source": [
    "## 瀏覽數"
   ]
  },
  {
   "cell_type": "code",
   "execution_count": 126,
   "metadata": {
    "collapsed": false
   },
   "outputs": [
    {
     "data": {
      "text/plain": [
       "'6.0 萬 瀏覽'"
      ]
     },
     "execution_count": 126,
     "metadata": {},
     "output_type": "execute_result"
    }
   ],
   "source": [
    "viewCount = soup.select_one(\"#o-wrapper > div.container > div > div.col-xs-12.col-md-8 > article > div.meta.meta-bottom > span.views-count.count-tooltip\")\n",
    "viewCount.text.strip()"
   ]
  }
 ],
 "metadata": {
  "kernelspec": {
   "display_name": "Python 3",
   "language": "python",
   "name": "python3"
  },
  "language_info": {
   "codemirror_mode": {
    "name": "ipython",
    "version": 3
   },
   "file_extension": ".py",
   "mimetype": "text/x-python",
   "name": "python",
   "nbconvert_exporter": "python",
   "pygments_lexer": "ipython3",
   "version": "3.5.2"
  }
 },
 "nbformat": 4,
 "nbformat_minor": 2
}
