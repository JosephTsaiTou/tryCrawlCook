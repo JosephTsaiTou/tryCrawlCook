{
 "cells": [
  {
   "cell_type": "code",
   "execution_count": 43,
   "metadata": {
    "collapsed": false,
    "deletable": true,
    "editable": true,
    "scrolled": true
   },
   "outputs": [],
   "source": [
    "import requests as r\n",
    "from bs4 import BeautifulSoup\n",
    "res = r.get(\"https://icook.tw/recipes/192607\")\n",
    "# res = r.get(\"https://icook.tw/recipes/149885\")\n",
    "# res = r.get(\"https://icook.tw/recipes/41742\")\n",
    "res.text\n",
    "soup = BeautifulSoup(res.text, 'lxml')\n"
   ]
  },
  {
   "cell_type": "markdown",
   "metadata": {
    "deletable": true,
    "editable": true
   },
   "source": [
    "## 標題"
   ]
  },
  {
   "cell_type": "code",
   "execution_count": 44,
   "metadata": {
    "collapsed": false,
    "deletable": true,
    "editable": true
   },
   "outputs": [
    {
     "data": {
      "text/plain": [
       "'\\\\\\\\自家居酒屋-蜜汁韭菜豬肉捲//'"
      ]
     },
     "execution_count": 44,
     "metadata": {},
     "output_type": "execute_result"
    }
   ],
   "source": [
    "title = soup.select_one(\"#o-wrapper > div.container > div > div.col-xs-12.col-md-8 > article > h1\").text.strip()\n",
    "title"
   ]
  },
  {
   "cell_type": "markdown",
   "metadata": {
    "deletable": true,
    "editable": true
   },
   "source": [
    "## 食材"
   ]
  },
  {
   "cell_type": "code",
   "execution_count": 46,
   "metadata": {
    "collapsed": false,
    "deletable": true,
    "editable": true
   },
   "outputs": [
    {
     "data": {
      "text/plain": [
       "'火鍋豬肉片(部位可依個人喜好),韭菜'"
      ]
     },
     "execution_count": 46,
     "metadata": {},
     "output_type": "execute_result"
    }
   ],
   "source": [
    "ingredients = soup.select(\"#o-wrapper > div.container > div > div.col-xs-12.col-md-8 > article > div > div.col-xs-12.col-md-4 > div > div > div.group.group-0 > div > span.pull-left.ingredient-name\")\n",
    "# ingredients\n",
    "ingrediantList=[]\n",
    "ingredientStr=''\n",
    "count=0\n",
    "for ingredient in ingredients:\n",
    "    count+=1\n",
    "    ingName=ingredient.text\n",
    "    ingrediantList.append(ingName)\n",
    "#     ingredients\n",
    "    if count != len(ingredient):\n",
    "        ingredientStr = ingName + ','  + ingredientStr\n",
    "    else:\n",
    "        ingredientStr = ingredientStr +ingName\n",
    "ingrediantList\n",
    "ingredientStr"
   ]
  },
  {
   "cell_type": "markdown",
   "metadata": {
    "deletable": true,
    "editable": true
   },
   "source": [
    "## 調味料"
   ]
  },
  {
   "cell_type": "code",
   "execution_count": 47,
   "metadata": {
    "collapsed": false,
    "deletable": true,
    "editable": true,
    "scrolled": false
   },
   "outputs": [
    {
     "data": {
      "text/plain": [
       "'醬油膏,五香粉,蜜汁烤肉醬,水'"
      ]
     },
     "execution_count": 47,
     "metadata": {},
     "output_type": "execute_result"
    }
   ],
   "source": [
    "seasons = soup.select(\"#o-wrapper > div.container > div > div.col-xs-12.col-md-8 > article > div > div.col-xs-12.col-md-4 > div > div > div.group.group-1 > div > span.pull-left.ingredient-name\")\n",
    "seasons\n",
    "seasonList=[]\n",
    "count=0\n",
    "seasonStr=''\n",
    "for season in seasons:\n",
    "    count+=1\n",
    "    s=season.text\n",
    "    seasonList.append(s)\n",
    "    if count != len(seasons):\n",
    "        seasonStr = s + ','  + seasonStr\n",
    "    else:\n",
    "        seasonStr = seasonStr + s\n",
    "seasonList\n",
    "seasonStr"
   ]
  },
  {
   "cell_type": "markdown",
   "metadata": {
    "deletable": true,
    "editable": true
   },
   "source": [
    "## 收藏數"
   ]
  },
  {
   "cell_type": "code",
   "execution_count": 48,
   "metadata": {
    "collapsed": false,
    "deletable": true,
    "editable": true
   },
   "outputs": [
    {
     "data": {
      "text/plain": [
       "'555'"
      ]
     },
     "execution_count": 48,
     "metadata": {},
     "output_type": "execute_result"
    }
   ],
   "source": [
    "collectionNo =soup.select_one(\"#o-wrapper > div.container > div > div.col-xs-12.col-md-8 > article > div > div.col-xs-12.col-md-8 > div.row.func > div.col-xs-12.col-sm-6.col-md-7.meta > span.fav-count.recipe-favorites\")\n",
    "collectionNo.text\n",
    "collectNumber=collectionNo.text.split('\\n')[0]\n",
    "collectNumber"
   ]
  },
  {
   "cell_type": "markdown",
   "metadata": {
    "deletable": true,
    "editable": true
   },
   "source": [
    "## 烹煮時間 (有些沒有)"
   ]
  },
  {
   "cell_type": "code",
   "execution_count": 49,
   "metadata": {
    "collapsed": false,
    "deletable": true,
    "editable": true
   },
   "outputs": [
    {
     "data": {
      "text/plain": [
       "'10 分鐘'"
      ]
     },
     "execution_count": 49,
     "metadata": {},
     "output_type": "execute_result"
    }
   ],
   "source": [
    "# soup.select_one(\"#o-wrapper > div.container > div > div.col-xs-12.col-md-8 > article > div > div.col-xs-12.col-md-4 > div > h3 > span.pull-right > span.time\")\n",
    "needTime = soup.select_one(\"#o-wrapper > div.container > div > div.col-xs-12.col-md-8 > article > div > div.col-xs-12.col-md-4 > div > h3 > span.pull-right > span.time\")\n",
    "if needTime:\n",
    "    time = needTime.text #string\n",
    "else: \n",
    "    time=\"未標示\"\n",
    "time\n",
    "# type(time)"
   ]
  },
  {
   "cell_type": "markdown",
   "metadata": {
    "deletable": true,
    "editable": true
   },
   "source": [
    "## 瀏覽數"
   ]
  },
  {
   "cell_type": "code",
   "execution_count": 50,
   "metadata": {
    "collapsed": false,
    "deletable": true,
    "editable": true
   },
   "outputs": [],
   "source": [
    "viewCount = soup.select_one(\"#o-wrapper > div.container > div > div.col-xs-12.col-md-8 > article > div.meta.meta-bottom > span.views-count.count-tooltip\")\n",
    "views = viewCount.text.strip()"
   ]
  },
  {
   "cell_type": "code",
   "execution_count": 51,
   "metadata": {
    "collapsed": false,
    "scrolled": true
   },
   "outputs": [
    {
     "data": {
      "text/plain": [
       "{'collectNumbers': '555',\n",
       " 'ingredients': '火鍋豬肉片(部位可依個人喜好),韭菜',\n",
       " 'seasons': '醬油膏,五香粉,蜜汁烤肉醬,水',\n",
       " 'time': '10 分鐘',\n",
       " 'title': '\\\\\\\\自家居酒屋-蜜汁韭菜豬肉捲//',\n",
       " 'viewCount': '1.3 萬 瀏覽'}"
      ]
     },
     "execution_count": 51,
     "metadata": {},
     "output_type": "execute_result"
    }
   ],
   "source": [
    "recipe_dic={}\n",
    "recipe_dic['title'] = title\n",
    "recipe_dic['ingredients']=ingredientStr   #ingrediantList\n",
    "recipe_dic['seasons']=seasonStr   #seasonList\n",
    "recipe_dic['time']=time\n",
    "recipe_dic['collectNumbers']=collectNumber\n",
    "recipe_dic['viewCount']=views\n",
    "recipe_dic"
   ]
  },
  {
   "cell_type": "code",
   "execution_count": 54,
   "metadata": {
    "collapsed": false
   },
   "outputs": [
    {
     "data": {
      "text/plain": [
       "[{'collectNumbers': '555',\n",
       "  'ingredients': '火鍋豬肉片(部位可依個人喜好),韭菜',\n",
       "  'seasons': '醬油膏,五香粉,蜜汁烤肉醬,水',\n",
       "  'time': '10 分鐘',\n",
       "  'title': '\\\\\\\\自家居酒屋-蜜汁韭菜豬肉捲//',\n",
       "  'viewCount': '1.3 萬 瀏覽'}]"
      ]
     },
     "execution_count": 54,
     "metadata": {},
     "output_type": "execute_result"
    }
   ],
   "source": [
    "recipe_list=[]\n",
    "recipe_list.append(recipe_dic)\n",
    "recipe_list"
   ]
  },
  {
   "cell_type": "code",
   "execution_count": 55,
   "metadata": {
    "collapsed": false
   },
   "outputs": [
    {
     "data": {
      "text/plain": [
       "'[{\"ingredients\": \"火鍋豬肉片(部位可依個人喜好),韭菜\", \"viewCount\": \"1.3 萬 瀏覽\", \"time\": \"10 分鐘\", \"title\": \"\\\\\\\\\\\\\\\\自家居酒屋-蜜汁韭菜豬肉捲//\", \"seasons\": \"醬油膏,五香粉,蜜汁烤肉醬,水\", \"collectNumbers\": \"555\"}]'"
      ]
     },
     "execution_count": 55,
     "metadata": {},
     "output_type": "execute_result"
    }
   ],
   "source": [
    "import json\n",
    "recipe_json = json.dumps(recipe_list, ensure_ascii=False)\n",
    "recipe_json"
   ]
  },
  {
   "cell_type": "code",
   "execution_count": 35,
   "metadata": {
    "collapsed": true
   },
   "outputs": [],
   "source": [
    "with open('./recipe01.txt', 'w') as f:\n",
    "   f.write(recipe_json)"
   ]
  }
 ],
 "metadata": {
  "kernelspec": {
   "display_name": "Python 3",
   "language": "python",
   "name": "python3"
  },
  "language_info": {
   "codemirror_mode": {
    "name": "ipython",
    "version": 3
   },
   "file_extension": ".py",
   "mimetype": "text/x-python",
   "name": "python",
   "nbconvert_exporter": "python",
   "pygments_lexer": "ipython3",
   "version": "3.5.2"
  }
 },
 "nbformat": 4,
 "nbformat_minor": 2
}
