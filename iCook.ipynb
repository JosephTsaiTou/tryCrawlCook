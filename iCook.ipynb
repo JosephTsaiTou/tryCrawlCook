{
 "cells": [
  {
   "cell_type": "code",
   "execution_count": 2,
   "metadata": {
    "collapsed": false,
    "deletable": true,
    "editable": true,
    "scrolled": true
   },
   "outputs": [],
   "source": [
    "import requests as r\n",
    "from bs4 import BeautifulSoup\n",
    "res = r.get(\"https://icook.tw/recipes/192607\")\n",
    "# res = r.get(\"https://icook.tw/recipes/149885\")\n",
    "# res = r.get(\"https://icook.tw/recipes/41742\")\n",
    "res.text\n",
    "soup = BeautifulSoup(res.text, 'lxml')\n"
   ]
  },
  {
   "cell_type": "markdown",
   "metadata": {
    "deletable": true,
    "editable": true
   },
   "source": [
    "## 標題"
   ]
  },
  {
   "cell_type": "code",
   "execution_count": 3,
   "metadata": {
    "collapsed": false,
    "deletable": true,
    "editable": true
   },
   "outputs": [
    {
     "data": {
      "text/plain": [
       "'\\\\\\\\自家居酒屋-蜜汁韭菜豬肉捲//'"
      ]
     },
     "execution_count": 3,
     "metadata": {},
     "output_type": "execute_result"
    }
   ],
   "source": [
    "title = soup.select_one(\"#o-wrapper > div.container > div > div.col-xs-12.col-md-8 > article > h1\").text.strip()\n",
    "title"
   ]
  },
  {
   "cell_type": "markdown",
   "metadata": {
    "deletable": true,
    "editable": true
   },
   "source": [
    "## 食材"
   ]
  },
  {
   "cell_type": "code",
   "execution_count": 49,
   "metadata": {
    "collapsed": false,
    "deletable": true,
    "editable": true
   },
   "outputs": [
    {
     "name": "stdout",
     "output_type": "stream",
     "text": [
      "韭菜\n",
      "火鍋豬肉片(部位可依個人喜好)\n"
     ]
    }
   ],
   "source": [
    "ingredients = soup.select(\"#o-wrapper > div.container > div > div.col-xs-12.col-md-8 > article > div > div.col-xs-12.col-md-4 > div > div > div.group.group-0 > div > span.pull-left.ingredient-name\")\n",
    "# ingredients\n",
    "ingrediantList=[]\n",
    "for ingredient in ingredients:\n",
    "    ingName=ingredient.text\n",
    "    ingrediantList.append(ingName)\n",
    "    print(ingName)\n",
    "# ingrediantList\n",
    "# strIngredian"
   ]
  },
  {
   "cell_type": "markdown",
   "metadata": {
    "deletable": true,
    "editable": true
   },
   "source": [
    "## 調味料"
   ]
  },
  {
   "cell_type": "code",
   "execution_count": 5,
   "metadata": {
    "collapsed": false,
    "deletable": true,
    "editable": true,
    "scrolled": false
   },
   "outputs": [
    {
     "data": {
      "text/plain": [
       "['蜜汁烤肉醬', '五香粉', '醬油膏', '水']"
      ]
     },
     "execution_count": 5,
     "metadata": {},
     "output_type": "execute_result"
    }
   ],
   "source": [
    "seasons = soup.select(\"#o-wrapper > div.container > div > div.col-xs-12.col-md-8 > article > div > div.col-xs-12.col-md-4 > div > div > div.group.group-1 > div > span.pull-left.ingredient-name\")\n",
    "seasons\n",
    "seasonList=[]\n",
    "for season in seasons:\n",
    "    s=season.text\n",
    "    seasonList.append(s)\n",
    "seasonList"
   ]
  },
  {
   "cell_type": "markdown",
   "metadata": {
    "deletable": true,
    "editable": true
   },
   "source": [
    "## 收藏數"
   ]
  },
  {
   "cell_type": "code",
   "execution_count": 6,
   "metadata": {
    "collapsed": false,
    "deletable": true,
    "editable": true
   },
   "outputs": [
    {
     "data": {
      "text/plain": [
       "'465'"
      ]
     },
     "execution_count": 6,
     "metadata": {},
     "output_type": "execute_result"
    }
   ],
   "source": [
    "collectionNo =soup.select_one(\"#o-wrapper > div.container > div > div.col-xs-12.col-md-8 > article > div > div.col-xs-12.col-md-8 > div.row.func > div.col-xs-12.col-sm-6.col-md-7.meta > span.fav-count.recipe-favorites\")\n",
    "collectionNo.text\n",
    "collectNumber=collectionNo.text.split('\\n')[0]\n",
    "collectNumber"
   ]
  },
  {
   "cell_type": "markdown",
   "metadata": {
    "deletable": true,
    "editable": true
   },
   "source": [
    "## 烹煮時間 (有些沒有)"
   ]
  },
  {
   "cell_type": "code",
   "execution_count": 7,
   "metadata": {
    "collapsed": false,
    "deletable": true,
    "editable": true
   },
   "outputs": [
    {
     "data": {
      "text/plain": [
       "'10 分鐘'"
      ]
     },
     "execution_count": 7,
     "metadata": {},
     "output_type": "execute_result"
    }
   ],
   "source": [
    "# soup.select_one(\"#o-wrapper > div.container > div > div.col-xs-12.col-md-8 > article > div > div.col-xs-12.col-md-4 > div > h3 > span.pull-right > span.time\")\n",
    "needTime = soup.select_one(\"#o-wrapper > div.container > div > div.col-xs-12.col-md-8 > article > div > div.col-xs-12.col-md-4 > div > h3 > span.pull-right > span.time\")\n",
    "if needTime:\n",
    "    time = needTime.text #string\n",
    "else: \n",
    "    time=\"未標示\"\n",
    "time\n",
    "# type(time)"
   ]
  },
  {
   "cell_type": "markdown",
   "metadata": {
    "deletable": true,
    "editable": true
   },
   "source": [
    "## 瀏覽數"
   ]
  },
  {
   "cell_type": "code",
   "execution_count": 16,
   "metadata": {
    "collapsed": false,
    "deletable": true,
    "editable": true
   },
   "outputs": [
    {
     "data": {
      "text/plain": [
       "'1.1 萬 瀏覽'"
      ]
     },
     "execution_count": 16,
     "metadata": {},
     "output_type": "execute_result"
    }
   ],
   "source": [
    "viewCount = soup.select_one(\"#o-wrapper > div.container > div > div.col-xs-12.col-md-8 > article > div.meta.meta-bottom > span.views-count.count-tooltip\")\n",
    "views = viewCount.text.strip()\n",
    "views"
   ]
  },
  {
   "cell_type": "code",
   "execution_count": 30,
   "metadata": {
    "collapsed": false,
    "scrolled": true
   },
   "outputs": [
    {
     "data": {
      "text/plain": [
       "{'collectNumbers': '465',\n",
       " 'ingredients': ['韭菜', '火鍋豬肉片(部位可依個人喜好)'],\n",
       " 'seasons': ['蜜汁烤肉醬', '五香粉', '醬油膏', '水'],\n",
       " 'time': '10 分鐘',\n",
       " 'title': '\\\\\\\\自家居酒屋-蜜汁韭菜豬肉捲//',\n",
       " 'viewCount': '1.1 萬 瀏覽'}"
      ]
     },
     "execution_count": 30,
     "metadata": {},
     "output_type": "execute_result"
    }
   ],
   "source": [
    "recipe_dic={}\n",
    "recipe_dic['title'] = title\n",
    "recipe_dic['ingredients']=ingrediantList\n",
    "recipe_dic['seasons']=seasonList\n",
    "recipe_dic['time']=time\n",
    "recipe_dic['collectNumbers']=collectNumber\n",
    "recipe_dic['viewCount']=views\n",
    "recipe_dic"
   ]
  },
  {
   "cell_type": "code",
   "execution_count": 36,
   "metadata": {
    "collapsed": false
   },
   "outputs": [
    {
     "name": "stdout",
     "output_type": "stream",
     "text": [
      "collectNumbers:465\n"
     ]
    },
    {
     "ename": "TypeError",
     "evalue": "Can't convert 'list' object to str implicitly",
     "output_type": "error",
     "traceback": [
      "\u001b[1;31m---------------------------------------------------------------------------\u001b[0m",
      "\u001b[1;31mTypeError\u001b[0m                                 Traceback (most recent call last)",
      "\u001b[1;32m<ipython-input-36-06d7c9fe2ca5>\u001b[0m in \u001b[0;36m<module>\u001b[1;34m()\u001b[0m\n\u001b[0;32m      1\u001b[0m \u001b[1;32mfor\u001b[0m \u001b[0mkey\u001b[0m \u001b[1;32min\u001b[0m \u001b[0mrecipe_dic\u001b[0m\u001b[1;33m.\u001b[0m\u001b[0mkeys\u001b[0m\u001b[1;33m(\u001b[0m\u001b[1;33m)\u001b[0m\u001b[1;33m:\u001b[0m\u001b[1;33m\u001b[0m\u001b[0m\n\u001b[1;32m----> 2\u001b[1;33m     \u001b[0mprint\u001b[0m\u001b[1;33m(\u001b[0m\u001b[0mkey\u001b[0m \u001b[1;33m+\u001b[0m \u001b[1;34m\":\"\u001b[0m \u001b[1;33m+\u001b[0m \u001b[0mrecipe_dic\u001b[0m\u001b[1;33m[\u001b[0m\u001b[0mkey\u001b[0m\u001b[1;33m]\u001b[0m\u001b[1;33m)\u001b[0m\u001b[1;33m\u001b[0m\u001b[0m\n\u001b[0m",
      "\u001b[1;31mTypeError\u001b[0m: Can't convert 'list' object to str implicitly"
     ]
    }
   ],
   "source": [
    "for key in recipe_dic.keys():\n",
    "    print(key + \":\" + recipe_dic[key])"
   ]
  },
  {
   "cell_type": "code",
   "execution_count": 35,
   "metadata": {
    "collapsed": false
   },
   "outputs": [],
   "source": [
    "with open('./recipe01.txt', 'w') as f:\n",
    "    for key in recipe_dic.keys():\n",
    "        f.write(key +':'+recipe_dic[content])"
   ]
  },
  {
   "cell_type": "code",
   "execution_count": 23,
   "metadata": {
    "collapsed": false
   },
   "outputs": [
    {
     "data": {
      "text/plain": [
       "'{\"collectNumbers\": \"465\", \"seasons\": [\"\\\\u871c\\\\u6c41\\\\u70e4\\\\u8089\\\\u91ac\", \"\\\\u4e94\\\\u9999\\\\u7c89\", \"\\\\u91ac\\\\u6cb9\\\\u818f\", \"\\\\u6c34\"], \"viewCount\": \"1.1 \\\\u842c \\\\u700f\\\\u89bd\", \"time\": \"10 \\\\u5206\\\\u9418\", \"ingredients\": [\"\\\\u97ed\\\\u83dc\", \"\\\\u706b\\\\u934b\\\\u8c6c\\\\u8089\\\\u7247(\\\\u90e8\\\\u4f4d\\\\u53ef\\\\u4f9d\\\\u500b\\\\u4eba\\\\u559c\\\\u597d)\"], \"title\": \"\\\\\\\\\\\\\\\\\\\\u81ea\\\\u5bb6\\\\u5c45\\\\u9152\\\\u5c4b-\\\\u871c\\\\u6c41\\\\u97ed\\\\u83dc\\\\u8c6c\\\\u8089\\\\u6372//\"}'"
      ]
     },
     "execution_count": 23,
     "metadata": {},
     "output_type": "execute_result"
    }
   ],
   "source": [
    "import json\n",
    "recipe_json = json.dumps(recipe_dic)\n",
    "recipe_json"
   ]
  }
 ],
 "metadata": {
  "kernelspec": {
   "display_name": "Python 3",
   "language": "python",
   "name": "python3"
  },
  "language_info": {
   "codemirror_mode": {
    "name": "ipython",
    "version": 3
   },
   "file_extension": ".py",
   "mimetype": "text/x-python",
   "name": "python",
   "nbconvert_exporter": "python",
   "pygments_lexer": "ipython3",
   "version": "3.5.2"
  }
 },
 "nbformat": 4,
 "nbformat_minor": 2
}
