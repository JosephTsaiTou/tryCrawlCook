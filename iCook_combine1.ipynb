{
 "cells": [
  {
   "cell_type": "code",
   "execution_count": 1,
   "metadata": {
    "collapsed": false,
    "deletable": true,
    "editable": true
   },
   "outputs": [
    {
     "ename": "NameError",
     "evalue": "name 'views' is not defined",
     "output_type": "error",
     "traceback": [
      "\u001b[1;31m---------------------------------------------------------------------------\u001b[0m",
      "\u001b[1;31mNameError\u001b[0m                                 Traceback (most recent call last)",
      "\u001b[1;32m<ipython-input-1-c222c1ebd15a>\u001b[0m in \u001b[0;36m<module>\u001b[1;34m()\u001b[0m\n\u001b[0;32m     69\u001b[0m \u001b[0mrecipe_dic\u001b[0m\u001b[1;33m[\u001b[0m\u001b[1;34m'time'\u001b[0m\u001b[1;33m]\u001b[0m\u001b[1;33m=\u001b[0m\u001b[0mtime\u001b[0m\u001b[1;33m\u001b[0m\u001b[0m\n\u001b[0;32m     70\u001b[0m \u001b[0mrecipe_dic\u001b[0m\u001b[1;33m[\u001b[0m\u001b[1;34m'collectNumbers'\u001b[0m\u001b[1;33m]\u001b[0m\u001b[1;33m=\u001b[0m\u001b[0mcollectNumber\u001b[0m\u001b[1;33m\u001b[0m\u001b[0m\n\u001b[1;32m---> 71\u001b[1;33m \u001b[0mrecipe_dic\u001b[0m\u001b[1;33m[\u001b[0m\u001b[1;34m'viewCount'\u001b[0m\u001b[1;33m]\u001b[0m\u001b[1;33m=\u001b[0m\u001b[0mviews\u001b[0m\u001b[1;33m\u001b[0m\u001b[0m\n\u001b[0m\u001b[0;32m     72\u001b[0m \u001b[0mrecipe_dic\u001b[0m\u001b[1;33m\u001b[0m\u001b[0m\n",
      "\u001b[1;31mNameError\u001b[0m: name 'views' is not defined"
     ]
    }
   ],
   "source": [
    "import requests as r\n",
    "from bs4 import BeautifulSoup\n",
    "url=\"https://icook.tw/recipes/{}\"\n",
    "i=149885\n",
    "url = url.format(i)\n",
    "\n",
    "res = r.get(url)#\"https://icook.tw/recipes/41742\"\n",
    "res.text\n",
    "soup = BeautifulSoup(res.text, 'lxml')\n",
    "\n",
    "# title\n",
    "title = soup.select_one(\"#o-wrapper > div.container > div > div.col-xs-12.col-md-8 > article > h1\").text.strip()\n",
    "\n",
    "# ingredients\n",
    "ingredients = soup.select(\"#o-wrapper > div.container > div > div.col-xs-12.col-md-8 > article > div > div.col-xs-12.col-md-4 > div > div > div.group.group-0 > div > span.pull-left.ingredient-name\")\n",
    "ingrediantList=[]\n",
    "ingredientStr=''\n",
    "count=0\n",
    "for ingredient in ingredients:\n",
    "    count+=1\n",
    "    ingName=ingredient.text\n",
    "    ingrediantList.append(ingName)\n",
    "    if count != len(ingredient):\n",
    "        ingredientStr = ingName + ','  + ingredientStr\n",
    "    else:\n",
    "        ingredientStr = ingredientStr +ingName\n",
    "ingrediantList\n",
    "ingredientStr\n",
    "\n",
    "# seasons\n",
    "seasons = soup.select(\"#o-wrapper > div.container > div > div.col-xs-12.col-md-8 > article > div > div.col-xs-12.col-md-4 > div > div > div.group.group-1 > div > span.pull-left.ingredient-name\")\n",
    "seasons\n",
    "seasonList=[]\n",
    "count=0\n",
    "seasonStr=''\n",
    "for season in seasons:\n",
    "    count+=1\n",
    "    s=season.text\n",
    "    seasonList.append(s)\n",
    "    if count != len(seasons):\n",
    "        seasonStr = s + ','  + seasonStr\n",
    "    else:\n",
    "        seasonStr = seasonStr + s\n",
    "seasonList\n",
    "seasonStr\n",
    "\n",
    "# 烹煮時間\n",
    "needTime = soup.select_one(\"#o-wrapper > div.container > div > div.col-xs-12.col-md-8 > article > div > div.col-xs-12.col-md-4 > div > h3 > span.pull-right > span.time\")\n",
    "if needTime:\n",
    "    time = needTime.text #string\n",
    "else: \n",
    "    time=\"未標示\"\n",
    "time\n",
    "\n",
    "# 收藏數\n",
    "collectionNo =soup.select_one(\"#o-wrapper > div.container > div > div.col-xs-12.col-md-8 > article > div > div.col-xs-12.col-md-8 > div.row.func > div.col-xs-12.col-sm-6.col-md-7.meta > span.fav-count.recipe-favorites\")\n",
    "collectionNo.text\n",
    "collectNumber=collectionNo.text.split('\\n')[0]\n",
    "collectNumber\n",
    "\n",
    "#瀏覽數 \n",
    "viewCount = soup.select_one(\"#o-wrapper > div.container > div > div.col-xs-12.col-md-8 > article > div.meta.meta-bottom > span.views-count.count-tooltip\")\n",
    "views = viewCount.text.strip()\n",
    "\n",
    "recipe_dic={}\n",
    "recipe_dic['title'] = title\n",
    "recipe_dic['ingredients']=ingredientStr   #ingrediantList\n",
    "recipe_dic['seasons']=seasonStr   #seasonList\n",
    "recipe_dic['time']=time\n",
    "recipe_dic['collectNumbers']=collectNumber\n",
    "recipe_dic['viewCount']=views\n",
    "recipe_dic"
   ]
  }
 ],
 "metadata": {
  "kernelspec": {
   "display_name": "Python 3",
   "language": "python",
   "name": "python3"
  },
  "language_info": {
   "codemirror_mode": {
    "name": "ipython",
    "version": 3
   },
   "file_extension": ".py",
   "mimetype": "text/x-python",
   "name": "python",
   "nbconvert_exporter": "python",
   "pygments_lexer": "ipython3",
   "version": "3.5.2"
  }
 },
 "nbformat": 4,
 "nbformat_minor": 2
}
