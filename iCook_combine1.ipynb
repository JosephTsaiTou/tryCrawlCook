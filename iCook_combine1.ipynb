{
 "cells": [
  {
   "cell_type": "code",
   "execution_count": 2,
   "metadata": {
    "collapsed": false
   },
   "outputs": [
    {
     "data": {
      "text/plain": [
       "'https://icook.tw/recipes/149885'"
      ]
     },
     "execution_count": 2,
     "metadata": {},
     "output_type": "execute_result"
    }
   ],
   "source": [
    "import requests as r\n",
    "from bs4 import BeautifulSoup\n",
    "url=\"https://icook.tw/recipes/{}\"\n",
    "i=149885\n",
    "url = url.format(i)\n",
    "\n",
    "res = r.get(\"https://icook.tw/recipes/41742\")\n",
    "res.text\n",
    "soup = BeautifulSoup(res.text, 'lxml')\n",
    "\n",
    "# title\n",
    "title = soup.select_one(\"#o-wrapper > div.container > div > div.col-xs-12.col-md-8 > article > h1\").text.strip()\n",
    "\n",
    "# ingredients\n",
    "ingredients = soup.select(\"#o-wrapper > div.container > div > div.col-xs-12.col-md-8 > article > div > div.col-xs-12.col-md-4 > div > div > div.group.group-0 > div > span.pull-left.ingredient-name\")\n",
    "ingrediantList=[]\n",
    "for ingredient in ingredients:\n",
    "    ingName=ingredient.text\n",
    "    ingrediantList.append(ingName)\n",
    "\n",
    "# seasons\n",
    "seasons = soup.select(\"#o-wrapper > div.container > div > div.col-xs-12.col-md-8 > article > div > div.col-xs-12.col-md-4 > div > div > div.group.group-1 > div > span.pull-left.ingredient-name\")\n",
    "seasons\n",
    "seasonList=[]\n",
    "for season in seasons:\n",
    "    s=season.text\n",
    "    seasonList.append(s)\n",
    "seasonList\n",
    "\n",
    "# 烹煮時間\n",
    "needTime = soup.select_one(\"#o-wrapper > div.container > div > div.col-xs-12.col-md-8 > article > div > div.col-xs-12.col-md-4 > div > h3 > span.pull-right > span.time\")\n",
    "if needTime:\n",
    "    time = needTime.text #string\n",
    "else: \n",
    "    time=\"未標示\"\n",
    "time\n",
    "\n",
    "# 收藏數\n",
    "collectionNo =soup.select_one(\"#o-wrapper > div.container > div > div.col-xs-12.col-md-8 > article > div > div.col-xs-12.col-md-8 > div.row.func > div.col-xs-12.col-sm-6.col-md-7.meta > span.fav-count.recipe-favorites\")\n",
    "collectionNo.text\n",
    "collectNumber=collectionNo.text.split('\\n')[0]\n",
    "collectNumber\n",
    "\n",
    "#瀏覽數 \n",
    "viewCount = soup.select_one(\"#o-wrapper > div.container > div > div.col-xs-12.col-md-8 > article > div.meta.meta-bottom > span.views-count.count-tooltip\")\n",
    "viewCount.text.strip()"
   ]
  }
 ],
 "metadata": {
  "kernelspec": {
   "display_name": "Python 3",
   "language": "python",
   "name": "python3"
  },
  "language_info": {
   "codemirror_mode": {
    "name": "ipython",
    "version": 3
   },
   "file_extension": ".py",
   "mimetype": "text/x-python",
   "name": "python",
   "nbconvert_exporter": "python",
   "pygments_lexer": "ipython3",
   "version": "3.5.2"
  }
 },
 "nbformat": 4,
 "nbformat_minor": 2
}
