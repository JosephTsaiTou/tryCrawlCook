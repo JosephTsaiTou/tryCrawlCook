{
 "cells": [
  {
   "cell_type": "code",
   "execution_count": 1,
   "metadata": {
    "collapsed": false,
    "deletable": true,
    "editable": true,
    "scrolled": true
   },
   "outputs": [],
   "source": [
    "def Crawl_iCook(i):\n",
    "    import requests as r\n",
    "    from bs4 import BeautifulSoup\n",
    "    import json\n",
    "    \n",
    "    recipe_list=[]\n",
    "    for c in range(i,i-5000,-1):\n",
    "        url=\"https://icook.tw/recipes/{}\"\n",
    "    #     i=149885\n",
    "        url = url.format(i)\n",
    "        try:\n",
    "            res = r.get(url)#\"https://icook.tw/recipes/41742\"\n",
    "            res.text\n",
    "            soup = BeautifulSoup(res.text, 'lxml')\n",
    "\n",
    "            # title\n",
    "            title = soup.select_one(\"#o-wrapper > div.container > div > div.col-xs-12.col-md-8 > article > h1\").text.strip()\n",
    "\n",
    "            # ingredients\n",
    "            ingredients = soup.select(\"#o-wrapper > div.container > div > div.col-xs-12.col-md-8 > article > div > div.col-xs-12.col-md-4 > div > div > div.group.group-0 > div > span.pull-left.ingredient-name\")\n",
    "            ingrediantList=[]\n",
    "            ingredientStr=''\n",
    "            count=0\n",
    "            for ingredient in ingredients:\n",
    "                count+=1\n",
    "                ingName=ingredient.text\n",
    "                ingrediantList.append(ingName)\n",
    "                if count != len(ingredient):\n",
    "                    ingredientStr = ingName + ','  + ingredientStr\n",
    "                else:\n",
    "                    ingredientStr = ingredientStr +ingName\n",
    "\n",
    "            # seasons\n",
    "            seasons = soup.select(\"#o-wrapper > div.container > div > div.col-xs-12.col-md-8 > article > div > div.col-xs-12.col-md-4 > div > div > div.group.group-1 > div > span.pull-left.ingredient-name\")\n",
    "            seasons\n",
    "            seasonList=[]\n",
    "            count=0\n",
    "            seasonStr=''\n",
    "            for season in seasons:\n",
    "                count+=1\n",
    "                s=season.text\n",
    "                seasonList.append(s)\n",
    "                if count != len(seasons):\n",
    "                    seasonStr = s + ','  + seasonStr\n",
    "                else:\n",
    "                    seasonStr = seasonStr + s\n",
    "\n",
    "            # 烹煮時間\n",
    "            needTime = soup.select_one(\"#o-wrapper > div.container > div > div.col-xs-12.col-md-8 > article > div > div.col-xs-12.col-md-4 > div > h3 > span.pull-right > span.time\")\n",
    "            if needTime:\n",
    "                time = needTime.text #string\n",
    "            else: \n",
    "                time=\"未標示\"\n",
    "\n",
    "            # 收藏數\n",
    "            collectionNo =soup.select_one(\"#o-wrapper > div.container > div > div.col-xs-12.col-md-8 > article > div > div.col-xs-12.col-md-8 > div.row.func > div.col-xs-12.col-sm-6.col-md-7.meta > span.fav-count.recipe-favorites\")\n",
    "            collectionNo.text\n",
    "            collectNumber=collectionNo.text.split('\\n')[0]\n",
    "\n",
    "            #瀏覽數 \n",
    "            viewCount = soup.select_one(\"#o-wrapper > div.container > div > div.col-xs-12.col-md-8 > article > div.meta.meta-bottom > span.views-count.count-tooltip\")\n",
    "            views = viewCount.text.strip()\n",
    "            \n",
    "#           儲存資料  \n",
    "            recipe_dic={}\n",
    "            recipe_dic['No.'] = c\n",
    "            recipe_dic['標題'] = title\n",
    "            recipe_dic['食材']=ingredientStr   #ingrediantList\n",
    "            recipe_dic['調味料']=seasonStr   #seasonList\n",
    "            recipe_dic['烹飪時間']=time\n",
    "            recipe_dic['收藏數']=collectNumber\n",
    "            recipe_dic['瀏覽數']=views\n",
    "\n",
    "            recipe_list.append(recipe_dic)\n",
    "        except:\n",
    "            pass\n",
    "    \n",
    "    recipe_json = json.dumps(recipe_list, ensure_ascii=False)\n",
    "    # 存成文字檔\n",
    "    with open('./recipe.txt', 'w') as f:\n",
    "        f.write(recipe_json)"
   ]
  },
  {
   "cell_type": "code",
   "execution_count": null,
   "metadata": {
    "collapsed": false,
    "scrolled": true
   },
   "outputs": [],
   "source": [
    "Crawl_iCook(149885)"
   ]
  },
  {
   "cell_type": "code",
   "execution_count": null,
   "metadata": {
    "collapsed": true
   },
   "outputs": [],
   "source": []
  }
 ],
 "metadata": {
  "kernelspec": {
   "display_name": "Python 3",
   "language": "python",
   "name": "python3"
  },
  "language_info": {
   "codemirror_mode": {
    "name": "ipython",
    "version": 3
   },
   "file_extension": ".py",
   "mimetype": "text/x-python",
   "name": "python",
   "nbconvert_exporter": "python",
   "pygments_lexer": "ipython3",
   "version": "3.5.2"
  }
 },
 "nbformat": 4,
 "nbformat_minor": 2
}
